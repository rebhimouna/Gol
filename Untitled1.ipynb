{
 "cells": [
  {
   "cell_type": "code",
   "execution_count": 8,
   "metadata": {},
   "outputs": [
    {
     "ename": "NameError",
     "evalue": "name 'whatev' is not defined",
     "output_type": "error",
     "traceback": [
      "\u001b[1;31m---------------------------------------------------------------------------\u001b[0m",
      "\u001b[1;31mNameError\u001b[0m                                 Traceback (most recent call last)",
      "\u001b[1;32m<ipython-input-8-493f93b42fb3>\u001b[0m in \u001b[0;36m<module>\u001b[1;34m()\u001b[0m\n\u001b[0;32m     83\u001b[0m     \u001b[1;31m# set output file\u001b[0m\u001b[1;33m\u001b[0m\u001b[1;33m\u001b[0m\u001b[0m\n\u001b[0;32m     84\u001b[0m \u001b[1;33m\u001b[0m\u001b[0m\n\u001b[1;32m---> 85\u001b[1;33m \u001b[0mani\u001b[0m\u001b[1;33m.\u001b[0m\u001b[0msave\u001b[0m\u001b[1;33m(\u001b[0m\u001b[0mwhatev\u001b[0m\u001b[1;33m,\u001b[0m \u001b[0mfps\u001b[0m\u001b[1;33m=\u001b[0m\u001b[1;36m30\u001b[0m\u001b[1;33m,\u001b[0m \u001b[0mextra_args\u001b[0m\u001b[1;33m=\u001b[0m\u001b[1;33m[\u001b[0m\u001b[1;34m'-vcodec'\u001b[0m\u001b[1;33m,\u001b[0m \u001b[1;34m'libx264'\u001b[0m\u001b[1;33m]\u001b[0m\u001b[1;33m)\u001b[0m\u001b[1;33m\u001b[0m\u001b[0m\n\u001b[0m\u001b[0;32m     86\u001b[0m \u001b[1;33m\u001b[0m\u001b[0m\n\u001b[0;32m     87\u001b[0m \u001b[0mplt\u001b[0m\u001b[1;33m.\u001b[0m\u001b[0mshow\u001b[0m\u001b[1;33m(\u001b[0m\u001b[1;33m)\u001b[0m\u001b[1;33m\u001b[0m\u001b[0m\n",
      "\u001b[1;31mNameError\u001b[0m: name 'whatev' is not defined"
     ]
    },
    {
     "data": {
      "image/png": "[encoded data removed]",
      "text/plain": [
       "<Figure size 432x288 with 1 Axes>"
      ]
     },
     "metadata": {
      "needs_background": "light"
     },
     "output_type": "display_data"
    }
   ],
   "source": [
    "# Python code to implement Conway's Game Of Life \n",
    "import argparse \n",
    "import numpy as np \n",
    "import matplotlib.pyplot as plt  \n",
    "import matplotlib.animation as animation \n",
    "  \n",
    "# setting up the values for the grid \n",
    "ON = 255\n",
    "OFF = 0\n",
    "vals = [ON, OFF] \n",
    "  \n",
    "def randomGrid(N): \n",
    "  \n",
    "    \"\"\"returns a grid of NxN random values\"\"\"\n",
    "    return np.random.choice(vals, N*N, p=[0.2, 0.8]).reshape(N, N) \n",
    "  \n",
    "def addGlider(i, j, grid): \n",
    "  \n",
    "    \"\"\"adds a glider with top left cell at (i, j)\"\"\"\n",
    "    glider = np.array([[0,    0, 255],  \n",
    "                       [255,  0, 255],  \n",
    "                       [0,  255, 255]]) \n",
    "    grid[i:i+3, j:j+3] = glider \n",
    "    #return grid\n",
    "\n",
    "\n",
    "def update(frameNum, img, grid, N): \n",
    "  \n",
    "    # copy grid since we require 8 neighbors  \n",
    "    # for calculation and we go line by line  \n",
    "    newGrid = grid.copy() \n",
    "    for i in range(N): \n",
    "        for j in range(N): \n",
    "  \n",
    "            # compute 8-neghbor sum \n",
    "            # using toroidal boundary conditions - x and y wrap around  \n",
    "            # so that the simulaton takes place on a toroidal surface. \n",
    "            total = int((grid[i, (j-1)%N] + grid[i, (j+1)%N] + \n",
    "                         grid[(i-1)%N, j] + grid[(i+1)%N, j] + \n",
    "                         grid[(i-1)%N, (j-1)%N] + grid[(i-1)%N, (j+1)%N] + \n",
    "                         grid[(i+1)%N, (j-1)%N] + grid[(i+1)%N, (j+1)%N])/255) \n",
    "  \n",
    "            # apply Conway's rules \n",
    "            if grid[i, j]  == ON: \n",
    "                if (total < 2) or (total > 3): \n",
    "                    newGrid[i, j] = OFF \n",
    "            else: \n",
    "                if total == 3: \n",
    "                    newGrid[i, j] = ON \n",
    "  \n",
    "    # update data \n",
    "    img.set_data(newGrid) \n",
    "    grid[:] = newGrid[:] \n",
    "    return img, \n",
    "  \n",
    "# main() function \n",
    "#def main(): \n",
    "   \n",
    "# set grid size \n",
    "N = 100\n",
    "#if args.N and int(args.N) > 8: \n",
    "#N = int(args.N) \n",
    "          \n",
    "# set animation update interval \n",
    "updateInterval = 80\n",
    "#if args.interval: \n",
    "#updateInterval = int(args.interval) \n",
    "  \n",
    "# declare grid \n",
    "grid = np.zeros(N*N).reshape(N, N) \n",
    "addGlider(1, 1, grid) \n",
    "    \n",
    "    \n",
    "# set up animation \n",
    "fig, ax = plt.subplots() \n",
    "img = ax.imshow(grid, interpolation='nearest') \n",
    "ani = animation.FuncAnimation(fig, update, fargs=(img, grid, N, ), \n",
    "                                  frames = 50, \n",
    "                                  interval=updateInterval, \n",
    "                                  save_count=80) \n",
    "  \n",
    "    # # of frames?  \n",
    "    # set output file \n",
    "\n",
    "\n",
    "plt.show() \n",
    "  \n",
    "\n",
    "\n",
    "  \n",
    "\n"
   ]
  },
  {
   "cell_type": "code",
   "execution_count": null,
   "metadata": {},
   "outputs": [],
   "source": []
  }
 ],
 "metadata": {
  "kernelspec": {
   "display_name": "Python 3",
   "language": "python",
   "name": "python3"
  },
  "language_info": {
   "codemirror_mode": {
    "name": "ipython",
    "version": 3
   },
   "file_extension": ".py",
   "mimetype": "text/x-python",
   "name": "python",
   "nbconvert_exporter": "python",
   "pygments_lexer": "ipython3",
   "version": "3.7.0"
  }
 },
 "nbformat": 4,
 "nbformat_minor": 2
}
