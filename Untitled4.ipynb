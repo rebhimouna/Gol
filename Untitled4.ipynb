{
 "cells": [
  {
   "cell_type": "code",
   "execution_count": 10,
   "metadata": {},
   "outputs": [
    {
     "data": {
      "image/png": "[encoded data removed]",
      "text/plain": [
       "<Figure size 432x288 with 1 Axes>"
      ]
     },
     "metadata": {
      "needs_background": "light"
     },
     "output_type": "display_data"
    }
   ],
   "source": [
    "#import\n",
    "import numpy as np\n",
    "import matplotlib.pyplot as plt  \n",
    "import matplotlib.animation as animation \n",
    "import random\n",
    "\n",
    "def init_universe(rows, cols):\n",
    "    grid = np.zeros([rows, cols])\n",
    "    for i in range(rows):\n",
    "        for j in range(cols):\n",
    "            grid[i][j] = round(random.random())\n",
    "    return grid\n",
    "\n",
    "def evolve(grid, pars):\n",
    "    overcrowd, underpop, reproduction = pars\n",
    "    rows, cols = grid.shape\n",
    "    newgrid = np.zeros([rows, cols])\n",
    "    neighbors = np.zeros([rows,cols])\n",
    "    # Auxiliary padded grid\n",
    "    padboard = np.zeros([rows+2, cols+2])\n",
    "    padboard[:-2,:-2] = grid\n",
    "    # Compute neighbours and newgrid\n",
    "    for i in range(rows):\n",
    "        for j in range(cols):\n",
    "            neighbors[i][j] += sum([padboard[a][b] for a in [i-1, i, i+1] \\\n",
    "                                    for b in [j-1, j, j+1]])\n",
    "            neighbors[i][j] -= padboard[i][j]\n",
    "            # Evolution logic\n",
    "            newgrid[i][j] = grid[i][j]\n",
    "            if grid[i][j] and \\\n",
    "               (neighbors[i][j] > overcrowd or neighbors[i][j] < underpop):\n",
    "                newgrid[i][j] = 0\n",
    "            elif not grid[i][j] and neighbors[i][j] == reproduction:\n",
    "                newgrid[i][j] = 1\n",
    "    return newgrid\n",
    "\n",
    "pars = 3, 2, 3\n",
    "rows, cols = 20, 20\n",
    "fig = plt.figure()\n",
    "ax = plt.axes()\n",
    "im = ax.matshow(init_universe(rows,cols),cmap=plt.cm.binary)\n",
    "ax.set_axis_off()\n",
    " \n",
    "\n",
    "def animate(i):\n",
    "    a = im.get_array()\n",
    "    a = evolve(a, pars)\n",
    "    im.set_array(a)\n",
    "    return [im]\n",
    "\n",
    "anim = animation.FuncAnimation(fig, animate,  frames=100, interval = 100,\n",
    "                               save_count = 50 , blit=True)\n",
    "\n",
    "#anim.save('animation_random.mp4', fps=10) # fps = FramesPerSecond"
   ]
  },
  {
   "cell_type": "code",
   "execution_count": null,
   "metadata": {},
   "outputs": [],
   "source": []
  }
 ],
 "metadata": {
  "kernelspec": {
   "display_name": "Python 3",
   "language": "python",
   "name": "python3"
  },
  "language_info": {
   "codemirror_mode": {
    "name": "ipython",
    "version": 3
   },
   "file_extension": ".py",
   "mimetype": "text/x-python",
   "name": "python",
   "nbconvert_exporter": "python",
   "pygments_lexer": "ipython3",
   "version": "3.7.0"
  }
 },
 "nbformat": 4,
 "nbformat_minor": 2
}
